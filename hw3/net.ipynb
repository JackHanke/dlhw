{
 "cells": [
  {
   "cell_type": "code",
   "execution_count": 17,
   "metadata": {},
   "outputs": [
    {
     "name": "stdout",
     "output_type": "stream",
     "text": [
      "54625\n"
     ]
    }
   ],
   "source": [
    "# NOTE find out 10k most frequent tokens, assign them an index\n",
    "\n",
    "frequency_dict = {}\n",
    "\n",
    "with open('wiki2.train.txt', 'r') as f:\n",
    "    train_data = f.read()\n",
    "\n",
    "    for ind, token in enumerate(train_data.split()):\n",
    "        try:\n",
    "            frequency_dict[token] += 1\n",
    "        except KeyError:\n",
    "            frequency_dict[token] = 1\n",
    "\n",
    "freq_lst = []\n",
    "for key, value in frequency_dict.items():\n",
    "    freq_lst.append(value)\n",
    "\n",
    "freq_lst.sort()\n",
    "\n",
    "freq_cutoff = freq_lst[-10000] # 16\n",
    "\n",
    "# dictionary for turning token to integer\n",
    "reduced_token_dict = {\n",
    "}\n",
    "\n",
    "# ensure <unk> token is above this threshold, which it is\n",
    "print(frequency_dict['<unk>'])\n",
    "\n",
    "ind = 0\n",
    "for key, value in frequency_dict.items():\n",
    "    if value > 16:\n",
    "        reduced_token_dict[key] = ind\n",
    "        ind += 1\n",
    "\n",
    "\n",
    "import pickle\n",
    "\n",
    "with open(f'tokenizer.pkl', 'wb') as f:\n",
    "    pickle.dump(reduced_token_dict, f)\n"
   ]
  },
  {
   "cell_type": "code",
   "execution_count": 27,
   "metadata": {},
   "outputs": [],
   "source": [
    "# NOTE tokenizer train, valid, and test\n",
    "\n",
    "def tokenize(text):\n",
    "    inds = []\n",
    "    with open(f'tokenizer.pkl', 'rb') as f:\n",
    "        tokenizer_dict = pickle.load(f)\n",
    "        unk_ind = tokenizer_dict['<unk>']\n",
    "        for token in text.split():\n",
    "            try:\n",
    "                ind = tokenizer_dict[token]\n",
    "            except KeyError:\n",
    "                ind = unk_ind\n",
    "            inds.append(ind)\n",
    "            \n",
    "    return inds\n",
    "\n",
    "# tokenize('Jack is the coolest person ever')\n",
    "\n",
    "\n",
    "for split in ['train', 'valid', 'test']:\n",
    "    with open(f'wiki2.{split}.txt', 'r') as f:\n",
    "        data = f.read()\n",
    "        tokenized_data = tokenize(text=data)\n",
    "    with open(f'wiki2tokenized.{split}.txt', 'wb') as f:\n",
    "        pickle.dump(tokenized_data, f)\n"
   ]
  }
 ],
 "metadata": {
  "kernelspec": {
   "display_name": "msai339",
   "language": "python",
   "name": "python3"
  },
  "language_info": {
   "codemirror_mode": {
    "name": "ipython",
    "version": 3
   },
   "file_extension": ".py",
   "mimetype": "text/x-python",
   "name": "python",
   "nbconvert_exporter": "python",
   "pygments_lexer": "ipython3",
   "version": "3.10.14"
  }
 },
 "nbformat": 4,
 "nbformat_minor": 2
}
